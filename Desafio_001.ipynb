{
  "nbformat": 4,
  "nbformat_minor": 0,
  "metadata": {
    "colab": {
      "provenance": [],
      "collapsed_sections": [
        "Rq6tU_xSY3jk",
        "DmNp1KPBZCm-",
        "Fl0cGi3bZKqU"
      ]
    },
    "kernelspec": {
      "name": "python3",
      "display_name": "Python 3"
    },
    "language_info": {
      "name": "python"
    }
  },
  "cells": [
    {
      "cell_type": "markdown",
      "source": [
        "### Importação dos dados\n",
        "\n"
      ],
      "metadata": {
        "id": "RhEdWd9YUR6H"
      }
    },
    {
      "cell_type": "code",
      "execution_count": null,
      "metadata": {
        "colab": {
          "base_uri": "https://localhost:8080/",
          "height": 258
        },
        "id": "T3EvaeQ_INIL",
        "outputId": "d424eba9-a8d0-4843-f901-85398fa5b54c"
      },
      "outputs": [
        {
          "output_type": "execute_result",
          "data": {
            "text/plain": [
              "                 Produto Categoria do Produto    Preço      Frete  \\\n",
              "0     Assistente virtual          eletronicos   219.08   9.249790   \n",
              "1         Mesa de jantar               moveis   256.35  11.234305   \n",
              "2      Jogo de tabuleiro           brinquedos   279.51  21.262681   \n",
              "3            Micro-ondas     eletrodomesticos  1009.99  54.667344   \n",
              "4  Cadeira de escritório               moveis   446.99  26.964689   \n",
              "\n",
              "  Data da Compra        Vendedor Local da compra  Avaliação da compra  \\\n",
              "0     16/01/2021     Pedro Gomes              SP                    4   \n",
              "1     18/05/2022  Beatriz Moraes              RJ                    1   \n",
              "2     15/03/2021      João Souza              DF                    1   \n",
              "3     03/05/2022      João Souza              RS                    4   \n",
              "4     07/11/2020   Larissa Alves              MG                    5   \n",
              "\n",
              "  Tipo de pagamento  Quantidade de parcelas    lat    lon  \n",
              "0    cartao_credito                       8 -22.19 -48.79  \n",
              "1    cartao_credito                       4 -22.25 -42.66  \n",
              "2    cartao_credito                       1 -15.83 -47.86  \n",
              "3            boleto                       1 -30.17 -53.50  \n",
              "4            boleto                       1 -18.10 -44.38  "
            ],
            "text/html": [
              "\n",
              "  <div id=\"df-54ab1451-713b-4350-9abe-883ecdd3557d\" class=\"colab-df-container\">\n",
              "    <div>\n",
              "<style scoped>\n",
              "    .dataframe tbody tr th:only-of-type {\n",
              "        vertical-align: middle;\n",
              "    }\n",
              "\n",
              "    .dataframe tbody tr th {\n",
              "        vertical-align: top;\n",
              "    }\n",
              "\n",
              "    .dataframe thead th {\n",
              "        text-align: right;\n",
              "    }\n",
              "</style>\n",
              "<table border=\"1\" class=\"dataframe\">\n",
              "  <thead>\n",
              "    <tr style=\"text-align: right;\">\n",
              "      <th></th>\n",
              "      <th>Produto</th>\n",
              "      <th>Categoria do Produto</th>\n",
              "      <th>Preço</th>\n",
              "      <th>Frete</th>\n",
              "      <th>Data da Compra</th>\n",
              "      <th>Vendedor</th>\n",
              "      <th>Local da compra</th>\n",
              "      <th>Avaliação da compra</th>\n",
              "      <th>Tipo de pagamento</th>\n",
              "      <th>Quantidade de parcelas</th>\n",
              "      <th>lat</th>\n",
              "      <th>lon</th>\n",
              "    </tr>\n",
              "  </thead>\n",
              "  <tbody>\n",
              "    <tr>\n",
              "      <th>0</th>\n",
              "      <td>Assistente virtual</td>\n",
              "      <td>eletronicos</td>\n",
              "      <td>219.08</td>\n",
              "      <td>9.249790</td>\n",
              "      <td>16/01/2021</td>\n",
              "      <td>Pedro Gomes</td>\n",
              "      <td>SP</td>\n",
              "      <td>4</td>\n",
              "      <td>cartao_credito</td>\n",
              "      <td>8</td>\n",
              "      <td>-22.19</td>\n",
              "      <td>-48.79</td>\n",
              "    </tr>\n",
              "    <tr>\n",
              "      <th>1</th>\n",
              "      <td>Mesa de jantar</td>\n",
              "      <td>moveis</td>\n",
              "      <td>256.35</td>\n",
              "      <td>11.234305</td>\n",
              "      <td>18/05/2022</td>\n",
              "      <td>Beatriz Moraes</td>\n",
              "      <td>RJ</td>\n",
              "      <td>1</td>\n",
              "      <td>cartao_credito</td>\n",
              "      <td>4</td>\n",
              "      <td>-22.25</td>\n",
              "      <td>-42.66</td>\n",
              "    </tr>\n",
              "    <tr>\n",
              "      <th>2</th>\n",
              "      <td>Jogo de tabuleiro</td>\n",
              "      <td>brinquedos</td>\n",
              "      <td>279.51</td>\n",
              "      <td>21.262681</td>\n",
              "      <td>15/03/2021</td>\n",
              "      <td>João Souza</td>\n",
              "      <td>DF</td>\n",
              "      <td>1</td>\n",
              "      <td>cartao_credito</td>\n",
              "      <td>1</td>\n",
              "      <td>-15.83</td>\n",
              "      <td>-47.86</td>\n",
              "    </tr>\n",
              "    <tr>\n",
              "      <th>3</th>\n",
              "      <td>Micro-ondas</td>\n",
              "      <td>eletrodomesticos</td>\n",
              "      <td>1009.99</td>\n",
              "      <td>54.667344</td>\n",
              "      <td>03/05/2022</td>\n",
              "      <td>João Souza</td>\n",
              "      <td>RS</td>\n",
              "      <td>4</td>\n",
              "      <td>boleto</td>\n",
              "      <td>1</td>\n",
              "      <td>-30.17</td>\n",
              "      <td>-53.50</td>\n",
              "    </tr>\n",
              "    <tr>\n",
              "      <th>4</th>\n",
              "      <td>Cadeira de escritório</td>\n",
              "      <td>moveis</td>\n",
              "      <td>446.99</td>\n",
              "      <td>26.964689</td>\n",
              "      <td>07/11/2020</td>\n",
              "      <td>Larissa Alves</td>\n",
              "      <td>MG</td>\n",
              "      <td>5</td>\n",
              "      <td>boleto</td>\n",
              "      <td>1</td>\n",
              "      <td>-18.10</td>\n",
              "      <td>-44.38</td>\n",
              "    </tr>\n",
              "  </tbody>\n",
              "</table>\n",
              "</div>\n",
              "    <div class=\"colab-df-buttons\">\n",
              "\n",
              "  <div class=\"colab-df-container\">\n",
              "    <button class=\"colab-df-convert\" onclick=\"convertToInteractive('df-54ab1451-713b-4350-9abe-883ecdd3557d')\"\n",
              "            title=\"Convert this dataframe to an interactive table.\"\n",
              "            style=\"display:none;\">\n",
              "\n",
              "  <svg xmlns=\"http://www.w3.org/2000/svg\" height=\"24px\" viewBox=\"0 -960 960 960\">\n",
              "    <path d=\"M120-120v-720h720v720H120Zm60-500h600v-160H180v160Zm220 220h160v-160H400v160Zm0 220h160v-160H400v160ZM180-400h160v-160H180v160Zm440 0h160v-160H620v160ZM180-180h160v-160H180v160Zm440 0h160v-160H620v160Z\"/>\n",
              "  </svg>\n",
              "    </button>\n",
              "\n",
              "  <style>\n",
              "    .colab-df-container {\n",
              "      display:flex;\n",
              "      gap: 12px;\n",
              "    }\n",
              "\n",
              "    .colab-df-convert {\n",
              "      background-color: #E8F0FE;\n",
              "      border: none;\n",
              "      border-radius: 50%;\n",
              "      cursor: pointer;\n",
              "      display: none;\n",
              "      fill: #1967D2;\n",
              "      height: 32px;\n",
              "      padding: 0 0 0 0;\n",
              "      width: 32px;\n",
              "    }\n",
              "\n",
              "    .colab-df-convert:hover {\n",
              "      background-color: #E2EBFA;\n",
              "      box-shadow: 0px 1px 2px rgba(60, 64, 67, 0.3), 0px 1px 3px 1px rgba(60, 64, 67, 0.15);\n",
              "      fill: #174EA6;\n",
              "    }\n",
              "\n",
              "    .colab-df-buttons div {\n",
              "      margin-bottom: 4px;\n",
              "    }\n",
              "\n",
              "    [theme=dark] .colab-df-convert {\n",
              "      background-color: #3B4455;\n",
              "      fill: #D2E3FC;\n",
              "    }\n",
              "\n",
              "    [theme=dark] .colab-df-convert:hover {\n",
              "      background-color: #434B5C;\n",
              "      box-shadow: 0px 1px 3px 1px rgba(0, 0, 0, 0.15);\n",
              "      filter: drop-shadow(0px 1px 2px rgba(0, 0, 0, 0.3));\n",
              "      fill: #FFFFFF;\n",
              "    }\n",
              "  </style>\n",
              "\n",
              "    <script>\n",
              "      const buttonEl =\n",
              "        document.querySelector('#df-54ab1451-713b-4350-9abe-883ecdd3557d button.colab-df-convert');\n",
              "      buttonEl.style.display =\n",
              "        google.colab.kernel.accessAllowed ? 'block' : 'none';\n",
              "\n",
              "      async function convertToInteractive(key) {\n",
              "        const element = document.querySelector('#df-54ab1451-713b-4350-9abe-883ecdd3557d');\n",
              "        const dataTable =\n",
              "          await google.colab.kernel.invokeFunction('convertToInteractive',\n",
              "                                                    [key], {});\n",
              "        if (!dataTable) return;\n",
              "\n",
              "        const docLinkHtml = 'Like what you see? Visit the ' +\n",
              "          '<a target=\"_blank\" href=https://colab.research.google.com/notebooks/data_table.ipynb>data table notebook</a>'\n",
              "          + ' to learn more about interactive tables.';\n",
              "        element.innerHTML = '';\n",
              "        dataTable['output_type'] = 'display_data';\n",
              "        await google.colab.output.renderOutput(dataTable, element);\n",
              "        const docLink = document.createElement('div');\n",
              "        docLink.innerHTML = docLinkHtml;\n",
              "        element.appendChild(docLink);\n",
              "      }\n",
              "    </script>\n",
              "  </div>\n",
              "\n",
              "\n",
              "    <div id=\"df-430630bd-3248-4a82-8ec7-61cf0d544be1\">\n",
              "      <button class=\"colab-df-quickchart\" onclick=\"quickchart('df-430630bd-3248-4a82-8ec7-61cf0d544be1')\"\n",
              "                title=\"Suggest charts\"\n",
              "                style=\"display:none;\">\n",
              "\n",
              "<svg xmlns=\"http://www.w3.org/2000/svg\" height=\"24px\"viewBox=\"0 0 24 24\"\n",
              "     width=\"24px\">\n",
              "    <g>\n",
              "        <path d=\"M19 3H5c-1.1 0-2 .9-2 2v14c0 1.1.9 2 2 2h14c1.1 0 2-.9 2-2V5c0-1.1-.9-2-2-2zM9 17H7v-7h2v7zm4 0h-2V7h2v10zm4 0h-2v-4h2v4z\"/>\n",
              "    </g>\n",
              "</svg>\n",
              "      </button>\n",
              "\n",
              "<style>\n",
              "  .colab-df-quickchart {\n",
              "      --bg-color: #E8F0FE;\n",
              "      --fill-color: #1967D2;\n",
              "      --hover-bg-color: #E2EBFA;\n",
              "      --hover-fill-color: #174EA6;\n",
              "      --disabled-fill-color: #AAA;\n",
              "      --disabled-bg-color: #DDD;\n",
              "  }\n",
              "\n",
              "  [theme=dark] .colab-df-quickchart {\n",
              "      --bg-color: #3B4455;\n",
              "      --fill-color: #D2E3FC;\n",
              "      --hover-bg-color: #434B5C;\n",
              "      --hover-fill-color: #FFFFFF;\n",
              "      --disabled-bg-color: #3B4455;\n",
              "      --disabled-fill-color: #666;\n",
              "  }\n",
              "\n",
              "  .colab-df-quickchart {\n",
              "    background-color: var(--bg-color);\n",
              "    border: none;\n",
              "    border-radius: 50%;\n",
              "    cursor: pointer;\n",
              "    display: none;\n",
              "    fill: var(--fill-color);\n",
              "    height: 32px;\n",
              "    padding: 0;\n",
              "    width: 32px;\n",
              "  }\n",
              "\n",
              "  .colab-df-quickchart:hover {\n",
              "    background-color: var(--hover-bg-color);\n",
              "    box-shadow: 0 1px 2px rgba(60, 64, 67, 0.3), 0 1px 3px 1px rgba(60, 64, 67, 0.15);\n",
              "    fill: var(--button-hover-fill-color);\n",
              "  }\n",
              "\n",
              "  .colab-df-quickchart-complete:disabled,\n",
              "  .colab-df-quickchart-complete:disabled:hover {\n",
              "    background-color: var(--disabled-bg-color);\n",
              "    fill: var(--disabled-fill-color);\n",
              "    box-shadow: none;\n",
              "  }\n",
              "\n",
              "  .colab-df-spinner {\n",
              "    border: 2px solid var(--fill-color);\n",
              "    border-color: transparent;\n",
              "    border-bottom-color: var(--fill-color);\n",
              "    animation:\n",
              "      spin 1s steps(1) infinite;\n",
              "  }\n",
              "\n",
              "  @keyframes spin {\n",
              "    0% {\n",
              "      border-color: transparent;\n",
              "      border-bottom-color: var(--fill-color);\n",
              "      border-left-color: var(--fill-color);\n",
              "    }\n",
              "    20% {\n",
              "      border-color: transparent;\n",
              "      border-left-color: var(--fill-color);\n",
              "      border-top-color: var(--fill-color);\n",
              "    }\n",
              "    30% {\n",
              "      border-color: transparent;\n",
              "      border-left-color: var(--fill-color);\n",
              "      border-top-color: var(--fill-color);\n",
              "      border-right-color: var(--fill-color);\n",
              "    }\n",
              "    40% {\n",
              "      border-color: transparent;\n",
              "      border-right-color: var(--fill-color);\n",
              "      border-top-color: var(--fill-color);\n",
              "    }\n",
              "    60% {\n",
              "      border-color: transparent;\n",
              "      border-right-color: var(--fill-color);\n",
              "    }\n",
              "    80% {\n",
              "      border-color: transparent;\n",
              "      border-right-color: var(--fill-color);\n",
              "      border-bottom-color: var(--fill-color);\n",
              "    }\n",
              "    90% {\n",
              "      border-color: transparent;\n",
              "      border-bottom-color: var(--fill-color);\n",
              "    }\n",
              "  }\n",
              "</style>\n",
              "\n",
              "      <script>\n",
              "        async function quickchart(key) {\n",
              "          const quickchartButtonEl =\n",
              "            document.querySelector('#' + key + ' button');\n",
              "          quickchartButtonEl.disabled = true;  // To prevent multiple clicks.\n",
              "          quickchartButtonEl.classList.add('colab-df-spinner');\n",
              "          try {\n",
              "            const charts = await google.colab.kernel.invokeFunction(\n",
              "                'suggestCharts', [key], {});\n",
              "          } catch (error) {\n",
              "            console.error('Error during call to suggestCharts:', error);\n",
              "          }\n",
              "          quickchartButtonEl.classList.remove('colab-df-spinner');\n",
              "          quickchartButtonEl.classList.add('colab-df-quickchart-complete');\n",
              "        }\n",
              "        (() => {\n",
              "          let quickchartButtonEl =\n",
              "            document.querySelector('#df-430630bd-3248-4a82-8ec7-61cf0d544be1 button');\n",
              "          quickchartButtonEl.style.display =\n",
              "            google.colab.kernel.accessAllowed ? 'block' : 'none';\n",
              "        })();\n",
              "      </script>\n",
              "    </div>\n",
              "\n",
              "    </div>\n",
              "  </div>\n"
            ],
            "application/vnd.google.colaboratory.intrinsic+json": {
              "type": "dataframe",
              "variable_name": "loja",
              "summary": "{\n  \"name\": \"loja\",\n  \"rows\": 2359,\n  \"fields\": [\n    {\n      \"column\": \"Produto\",\n      \"properties\": {\n        \"dtype\": \"category\",\n        \"num_unique_values\": 51,\n        \"samples\": [\n          \"Viol\\u00e3o\",\n          \"Bola de basquete\",\n          \"Smartwatch\"\n        ],\n        \"semantic_type\": \"\",\n        \"description\": \"\"\n      }\n    },\n    {\n      \"column\": \"Categoria do Produto\",\n      \"properties\": {\n        \"dtype\": \"category\",\n        \"num_unique_values\": 8,\n        \"samples\": [\n          \"moveis\",\n          \"esporte e lazer\",\n          \"eletronicos\"\n        ],\n        \"semantic_type\": \"\",\n        \"description\": \"\"\n      }\n    },\n    {\n      \"column\": \"Pre\\u00e7o\",\n      \"properties\": {\n        \"dtype\": \"number\",\n        \"std\": 819.5827782539145,\n        \"min\": 10.07,\n        \"max\": 3969.38,\n        \"num_unique_values\": 2315,\n        \"samples\": [\n          446.11,\n          107.31,\n          65.86\n        ],\n        \"semantic_type\": \"\",\n        \"description\": \"\"\n      }\n    },\n    {\n      \"column\": \"Frete\",\n      \"properties\": {\n        \"dtype\": \"number\",\n        \"std\": 43.814183327408166,\n        \"min\": 0.0,\n        \"max\": 214.3770604781,\n        \"num_unique_values\": 2149,\n        \"samples\": [\n          83.815279607,\n          16.069664669,\n          14.0344876928\n        ],\n        \"semantic_type\": \"\",\n        \"description\": \"\"\n      }\n    },\n    {\n      \"column\": \"Data da Compra\",\n      \"properties\": {\n        \"dtype\": \"object\",\n        \"num_unique_values\": 1018,\n        \"samples\": [\n          \"15/09/2022\",\n          \"03/06/2020\",\n          \"06/11/2021\"\n        ],\n        \"semantic_type\": \"\",\n        \"description\": \"\"\n      }\n    },\n    {\n      \"column\": \"Vendedor\",\n      \"properties\": {\n        \"dtype\": \"category\",\n        \"num_unique_values\": 14,\n        \"samples\": [\n          \"Juliana Costa\",\n          \"Mariana Ferreira\",\n          \"Pedro Gomes\"\n        ],\n        \"semantic_type\": \"\",\n        \"description\": \"\"\n      }\n    },\n    {\n      \"column\": \"Local da compra\",\n      \"properties\": {\n        \"dtype\": \"category\",\n        \"num_unique_values\": 26,\n        \"samples\": [\n          \"TO\",\n          \"RN\",\n          \"SP\"\n        ],\n        \"semantic_type\": \"\",\n        \"description\": \"\"\n      }\n    },\n    {\n      \"column\": \"Avalia\\u00e7\\u00e3o da compra\",\n      \"properties\": {\n        \"dtype\": \"number\",\n        \"std\": 1,\n        \"min\": 1,\n        \"max\": 5,\n        \"num_unique_values\": 5,\n        \"samples\": [\n          1,\n          2,\n          5\n        ],\n        \"semantic_type\": \"\",\n        \"description\": \"\"\n      }\n    },\n    {\n      \"column\": \"Tipo de pagamento\",\n      \"properties\": {\n        \"dtype\": \"category\",\n        \"num_unique_values\": 4,\n        \"samples\": [\n          \"boleto\",\n          \"cartao_debito\",\n          \"cartao_credito\"\n        ],\n        \"semantic_type\": \"\",\n        \"description\": \"\"\n      }\n    },\n    {\n      \"column\": \"Quantidade de parcelas\",\n      \"properties\": {\n        \"dtype\": \"number\",\n        \"std\": 2,\n        \"min\": 1,\n        \"max\": 24,\n        \"num_unique_values\": 15,\n        \"samples\": [\n          7,\n          14,\n          8\n        ],\n        \"semantic_type\": \"\",\n        \"description\": \"\"\n      }\n    },\n    {\n      \"column\": \"lat\",\n      \"properties\": {\n        \"dtype\": \"number\",\n        \"std\": 5.372399916530833,\n        \"min\": -30.17,\n        \"max\": 1.41,\n        \"num_unique_values\": 26,\n        \"samples\": [\n          -9.46,\n          -5.81,\n          -22.19\n        ],\n        \"semantic_type\": \"\",\n        \"description\": \"\"\n      }\n    },\n    {\n      \"column\": \"lon\",\n      \"properties\": {\n        \"dtype\": \"number\",\n        \"std\": 4.183180020544179,\n        \"min\": -70.55,\n        \"max\": -36.59,\n        \"num_unique_values\": 26,\n        \"samples\": [\n          -48.26,\n          -36.59,\n          -48.79\n        ],\n        \"semantic_type\": \"\",\n        \"description\": \"\"\n      }\n    }\n  ]\n}"
            }
          },
          "metadata": {},
          "execution_count": 2
        }
      ],
      "source": [
        "import pandas as pd\n",
        "\n",
        "url = \"https://raw.githubusercontent.com/alura-es-cursos/challenge1-data-science/refs/heads/main/base-de-dados-challenge-1/loja_1.csv\"\n",
        "url2 = \"https://raw.githubusercontent.com/alura-es-cursos/challenge1-data-science/refs/heads/main/base-de-dados-challenge-1/loja_2.csv\"\n",
        "url3 = \"https://raw.githubusercontent.com/alura-es-cursos/challenge1-data-science/refs/heads/main/base-de-dados-challenge-1/loja_3.csv\"\n",
        "url4 = \"https://raw.githubusercontent.com/alura-es-cursos/challenge1-data-science/refs/heads/main/base-de-dados-challenge-1/loja_4.csv\"\n",
        "\n",
        "loja = pd.read_csv(url)\n",
        "loja2 = pd.read_csv(url2)\n",
        "loja3 = pd.read_csv(url3)\n",
        "loja4 = pd.read_csv(url4)\n",
        "\n",
        "loja.head()"
      ]
    },
    {
      "cell_type": "markdown",
      "source": [
        "## Lojas qoe serão analisadas"
      ],
      "metadata": {
        "id": "cQYbGv_CHT1D"
      }
    },
    {
      "cell_type": "code",
      "source": [
        "# Bibliotecas Importadas\n",
        "import pandas as pd\n",
        "import matplotlib.pyplot as plt\n"
      ],
      "metadata": {
        "id": "wel2ShU-Hd81"
      },
      "execution_count": null,
      "outputs": []
    },
    {
      "cell_type": "markdown",
      "source": [
        "#1. Análise do faturamento\n"
      ],
      "metadata": {
        "id": "X62IW3KFUIYm"
      }
    },
    {
      "cell_type": "code",
      "source": [
        "loja = pd.read_csv(url)\n",
        "loja2 = pd.read_csv(url2)\n",
        "loja3 = pd.read_csv(url3)\n",
        "loja4 = pd.read_csv(url4)"
      ],
      "metadata": {
        "id": "YkdRLfLPVoK0"
      },
      "execution_count": null,
      "outputs": []
    },
    {
      "cell_type": "code",
      "source": [
        "# Supondo que a coluna de valor seja 'Preco'\n",
        "faturamento_loja_1 = loja[\"Preço\"].sum()\n",
        "faturamento_loja_2 = loja2[\"Preço\"].sum()\n",
        "faturamento_loja_3 = loja3[\"Preço\"].sum()\n",
        "faturamento_loja_4 = loja4[\"Preço\"].sum()"
      ],
      "metadata": {
        "id": "jqz4oRg6VuS8"
      },
      "execution_count": null,
      "outputs": []
    },
    {
      "cell_type": "code",
      "source": [
        "# Imprimindo os resultados\n",
        "print(\"Faturamento Loja 1: R$\", round(faturamento_loja_1, ))\n",
        "print(\"Faturamento Loja 2: R$\", round(faturamento_loja_2, ))\n",
        "print(\"Faturamento Loja 3: R$\", round(faturamento_loja_3, ))\n",
        "print(\"Faturamento Loja 4: R$\", round(faturamento_loja_4, ))\n",
        "\n",
        "# faturamento total de todas as lojas\n",
        "faturamento_total = faturamento_loja_1 + faturamento_loja_2 + faturamento_loja_3 + faturamento_loja_4\n",
        "print(f\"\\nFaturamento total de todas as lojas: R${faturamento_total:.2f}\")"
      ],
      "metadata": {
        "colab": {
          "base_uri": "https://localhost:8080/"
        },
        "id": "OL-xqQCJ2LdR",
        "outputId": "316b8c55-216c-40a9-8a3e-c71ea28c2839"
      },
      "execution_count": null,
      "outputs": [
        {
          "output_type": "stream",
          "name": "stdout",
          "text": [
            "Faturamento Loja 1: R$ 1534509\n",
            "Faturamento Loja 2: R$ 1488459\n",
            "Faturamento Loja 3: R$ 1464025\n",
            "Faturamento Loja 4: R$ 1384498\n",
            "\n",
            "Faturamento total de todas as lojas: R$5871490.79\n"
          ]
        }
      ]
    },
    {
      "cell_type": "markdown",
      "source": [
        "# 2. Vendas por Categoria\n"
      ],
      "metadata": {
        "id": "2V_vcAPzWZmR"
      }
    },
    {
      "cell_type": "code",
      "source": [
        "# Agrupando as vendas por categoria (somando o valor total vendido por categoria)\n",
        "vendas_categoria_loja1 = loja.groupby(\"Categoria do Produto\")[\"Preço\"].sum()\n",
        "vendas_categoria_loja2 = loja2.groupby(\"Categoria do Produto\")[\"Preço\"].sum()\n",
        "vendas_categoria_loja3 = loja3.groupby(\"Categoria do Produto\")[\"Preço\"].sum()\n",
        "vendas_categoria_loja4 = loja4.groupby(\"Categoria do Produto\")[\"Preço\"].sum()\n"
      ],
      "metadata": {
        "id": "3BTqLdAyxiTl"
      },
      "execution_count": null,
      "outputs": []
    },
    {
      "cell_type": "markdown",
      "source": [
        "## VENDAS POR CATEGORIA LOJA 01"
      ],
      "metadata": {
        "id": "ZWllhgMFzDzu"
      }
    },
    {
      "cell_type": "code",
      "source": [
        "print(\"Vendas por categoria - Loja 1\")\n",
        "print(vendas_categoria_loja1)"
      ],
      "metadata": {
        "colab": {
          "base_uri": "https://localhost:8080/"
        },
        "id": "8fNsSuC6U5w7",
        "outputId": "164aa9f0-bb16-41cd-8cd5-8ef6ab8572ac"
      },
      "execution_count": null,
      "outputs": [
        {
          "output_type": "stream",
          "name": "stdout",
          "text": [
            "Vendas por categoria - Loja 1\n",
            "Categoria do Produto\n",
            "brinquedos                23993.78\n",
            "eletrodomesticos         484913.36\n",
            "eletronicos              572659.23\n",
            "esporte e lazer           52387.55\n",
            "instrumentos musicais    121731.69\n",
            "livros                    11713.92\n",
            "moveis                   250178.11\n",
            "utilidades domesticas     16931.48\n",
            "Name: Preço, dtype: float64\n"
          ]
        }
      ]
    },
    {
      "cell_type": "markdown",
      "source": [
        "## VENDAS POR CATEGORIA LOJA 02"
      ],
      "metadata": {
        "id": "fw517RhQzZBJ"
      }
    },
    {
      "cell_type": "code",
      "source": [
        "print(\"\\nVendas por categoria - Loja 2\")\n",
        "print(vendas_categoria_loja2)"
      ],
      "metadata": {
        "id": "A34YupIuYhfF",
        "colab": {
          "base_uri": "https://localhost:8080/"
        },
        "outputId": "a9deeccd-117b-4c07-ba95-ac2615af7cff"
      },
      "execution_count": null,
      "outputs": [
        {
          "output_type": "stream",
          "name": "stdout",
          "text": [
            "\n",
            "Vendas por categoria - Loja 2\n",
            "Categoria do Produto\n",
            "brinquedos                21262.21\n",
            "eletrodomesticos         464758.13\n",
            "eletronicos              547773.71\n",
            "esporte e lazer           46326.09\n",
            "instrumentos musicais    139987.03\n",
            "livros                    13454.35\n",
            "moveis                   235234.68\n",
            "utilidades domesticas     19662.86\n",
            "Name: Preço, dtype: float64\n"
          ]
        }
      ]
    },
    {
      "cell_type": "markdown",
      "source": [
        "## VENDAS POR CATEGORIA LOJA 03"
      ],
      "metadata": {
        "id": "JOy2D_vczgSy"
      }
    },
    {
      "cell_type": "code",
      "source": [
        "print(\"\\nVendas por categoria - Loja 3\")\n",
        "print(vendas_categoria_loja3)"
      ],
      "metadata": {
        "id": "yZR6cOjXYSk1",
        "colab": {
          "base_uri": "https://localhost:8080/"
        },
        "outputId": "161d7cd1-f7ca-41af-9513-6ab7000c7e09"
      },
      "execution_count": null,
      "outputs": [
        {
          "output_type": "stream",
          "name": "stdout",
          "text": [
            "\n",
            "Vendas por categoria - Loja 3\n",
            "Categoria do Produto\n",
            "brinquedos                25869.20\n",
            "eletrodomesticos         438984.89\n",
            "eletronicos              547699.92\n",
            "esporte e lazer           47456.10\n",
            "instrumentos musicais    103174.45\n",
            "livros                    12664.70\n",
            "moveis                   268095.56\n",
            "utilidades domesticas     20080.21\n",
            "Name: Preço, dtype: float64\n"
          ]
        }
      ]
    },
    {
      "cell_type": "markdown",
      "source": [
        "## VENDAS POR CATEGORIA LOJA 04"
      ],
      "metadata": {
        "id": "5hO1AmYtzjQZ"
      }
    },
    {
      "cell_type": "code",
      "source": [
        "print(\"\\nVendas por categoria - Loja 4\")\n",
        "print(vendas_categoria_loja4)"
      ],
      "metadata": {
        "colab": {
          "base_uri": "https://localhost:8080/"
        },
        "id": "8vibh4Ezy_KP",
        "outputId": "24dc5455-457e-4363-d8ce-0a5b62c6510d"
      },
      "execution_count": null,
      "outputs": [
        {
          "output_type": "stream",
          "name": "stdout",
          "text": [
            "\n",
            "Vendas por categoria - Loja 4\n",
            "Categoria do Produto\n",
            "brinquedos                27015.67\n",
            "eletrodomesticos         377680.65\n",
            "eletronicos              545966.86\n",
            "esporte e lazer           44465.65\n",
            "instrumentos musicais    100136.50\n",
            "livros                    12427.77\n",
            "moveis                   256705.65\n",
            "utilidades domesticas     20098.83\n",
            "Name: Preço, dtype: float64\n"
          ]
        }
      ]
    },
    {
      "cell_type": "markdown",
      "source": [
        "# 3. Média de Avaliação das Lojas"
      ],
      "metadata": {
        "id": "Rq6tU_xSY3jk"
      }
    },
    {
      "cell_type": "code",
      "source": [
        "def media(loja1):\n",
        "\n",
        "  media = loja1['Avaliação da compra'].mean()\n",
        "  return media\n",
        "\n",
        "media_loja1 = media(loja)\n",
        "media_loja2 = media(loja2)\n",
        "media_loja3 = media(loja3)\n",
        "media_loja4 = media(loja4)"
      ],
      "metadata": {
        "id": "bh3jjjJwY5MU"
      },
      "execution_count": null,
      "outputs": []
    },
    {
      "cell_type": "code",
      "source": [
        "print('mediade alavaliação da da loja1')\n",
        "print(media_loja1)\n",
        "print('mediade alavaliação da loja2')\n",
        "print(media_loja2)\n",
        "print('mediade alavaliação da loja3')\n",
        "print(media_loja3)\n",
        "print('mediade alavaliação da loja4')\n",
        "print(media_loja4)"
      ],
      "metadata": {
        "id": "I0KkjPoTY88F",
        "colab": {
          "base_uri": "https://localhost:8080/"
        },
        "outputId": "d099aed2-8b04-422f-a46c-99af69b1ed09"
      },
      "execution_count": null,
      "outputs": [
        {
          "output_type": "stream",
          "name": "stdout",
          "text": [
            "mediade alavaliação da da loja1\n",
            "3.976685036032217\n",
            "mediade alavaliação da loja2\n",
            "4.037303942348453\n",
            "mediade alavaliação da loja3\n",
            "4.048325561678677\n",
            "mediade alavaliação da loja4\n",
            "3.9957591178965224\n"
          ]
        }
      ]
    },
    {
      "cell_type": "markdown",
      "source": [
        "# 4. Produtos Mais e Menos Vendidos"
      ],
      "metadata": {
        "id": "DmNp1KPBZCm-"
      }
    },
    {
      "cell_type": "code",
      "source": [
        "import pandas as pd\n",
        "\n",
        "url = \"https://raw.githubusercontent.com/alura-es-cursos/challenge1-data-science/refs/heads/main/base-de-dados-challenge-1/loja_1.csv\"\n",
        "url2 = \"https://raw.githubusercontent.com/alura-es-cursos/challenge1-data-science/refs/heads/main/base-de-dados-challenge-1/loja_2.csv\"\n",
        "url3 = \"https://raw.githubusercontent.com/alura-es-cursos/challenge1-data-science/refs/heads/main/base-de-dados-challenge-1/loja_3.csv\"\n",
        "url4 = \"https://raw.githubusercontent.com/alura-es-cursos/challenge1-data-science/refs/heads/main/base-de-dados-challenge-1/loja_4.csv\"\n",
        "\n",
        "loja = pd.read_csv(url)\n",
        "loja2 = pd.read_csv(url2)\n",
        "loja3 = pd.read_csv(url3)\n",
        "loja4 = pd.read_csv(url4)"
      ],
      "metadata": {
        "id": "qoyjqijQZHfF"
      },
      "execution_count": null,
      "outputs": []
    },
    {
      "cell_type": "code",
      "source": [
        "# Juntar os dados das quatro lojas\n",
        "todas_as_lojas = pd.concat([loja, loja2, loja3, loja4])\n",
        "\n",
        "print(todas_as_lojas.columns)\n",
        "\n",
        "# Contar os produtos mais vendidos\n",
        "produtos_mais_vendidos = todas_as_lojas['Produto'].value_counts()"
      ],
      "metadata": {
        "id": "0Sw3sd4IZIGW",
        "colab": {
          "base_uri": "https://localhost:8080/"
        },
        "outputId": "4401874e-a865-499e-f33d-57013f45a181"
      },
      "execution_count": null,
      "outputs": [
        {
          "output_type": "stream",
          "name": "stdout",
          "text": [
            "Index(['Produto', 'Categoria do Produto', 'Preço', 'Frete', 'Data da Compra',\n",
            "       'Vendedor', 'Local da compra', 'Avaliação da compra',\n",
            "       'Tipo de pagamento', 'Quantidade de parcelas', 'lat', 'lon'],\n",
            "      dtype='object')\n"
          ]
        }
      ]
    },
    {
      "cell_type": "code",
      "source": [
        "# Mostrar os mais vendidos\n",
        "print(\"Top produtos mais vendidos:\")\n",
        "print(produtos_mais_vendidos.head(10))\n",
        "\n",
        "# Mostrar os menos vendidos\n",
        "print(\"\\nTop produtos menos vendidos:\")\n",
        "print(produtos_mais_vendidos.tail(10))"
      ],
      "metadata": {
        "colab": {
          "base_uri": "https://localhost:8080/"
        },
        "id": "PPBiMGsfF4l2",
        "outputId": "e3d4439b-dff0-463c-fba3-e484fbf4d62e"
      },
      "execution_count": null,
      "outputs": [
        {
          "output_type": "stream",
          "name": "stdout",
          "text": [
            "Top produtos mais vendidos:\n",
            "Produto\n",
            "Cômoda                      210\n",
            "Carrinho controle remoto    206\n",
            "Micro-ondas                 206\n",
            "Bateria                     203\n",
            "Cama king                   201\n",
            "Secadora de roupas          200\n",
            "Modelagem preditiva         200\n",
            "Jogo de panelas             200\n",
            "Cama box                    199\n",
            "Blocos de montar            199\n",
            "Name: count, dtype: int64\n",
            "\n",
            "Top produtos menos vendidos:\n",
            "Produto\n",
            "Panela de pressão              172\n",
            "Smartwatch                     172\n",
            "Jogo de copos                  169\n",
            "Poltrona                       168\n",
            "Assistente virtual             167\n",
            "Ciência de dados com python    166\n",
            "Guitarra                       165\n",
            "Mochila                        163\n",
            "Headset                        158\n",
            "Celular ABXY                   157\n",
            "Name: count, dtype: int64\n"
          ]
        }
      ]
    },
    {
      "cell_type": "code",
      "source": [
        "# produto mais e menos vendido de cada loja\n",
        "produtos_mais_vendidos_loja1 = loja['Produto'].value_counts()\n",
        "produtos_mais_vendidos_loja2 = loja2['Produto'].value_counts()\n",
        "produtos_mais_vendidos_loja3 = loja3['Produto'].value_counts()\n",
        "produtos_mais_vendidos_loja4 = loja4['Produto'].value_counts()"
      ],
      "metadata": {
        "id": "x0HPTAu1UrfD"
      },
      "execution_count": null,
      "outputs": []
    },
    {
      "cell_type": "code",
      "source": [
        "#imprimir o produto mais vendidos de cada loja\n",
        "print('produtos mais vendidos da loja 1')\n",
        "print(produtos_mais_vendidos_loja1.head(10))\n",
        "print('produtos mais vendidos da loja 2')\n",
        "print(produtos_mais_vendidos_loja2.head(10))\n",
        "print('produtos mais vendidos da loja 3')\n",
        "print(produtos_mais_vendidos_loja3.head(10))\n",
        "print('produtos mais vendidos da loja 4')\n",
        "print(produtos_mais_vendidos_loja4.head(10))\n"
      ],
      "metadata": {
        "colab": {
          "base_uri": "https://localhost:8080/"
        },
        "id": "9thS__mXVw7y",
        "outputId": "857d0a27-ca3a-4663-aedd-9cfc8ea05d97"
      },
      "execution_count": null,
      "outputs": [
        {
          "output_type": "stream",
          "name": "stdout",
          "text": [
            "produtos mais vendidos da loja 1\n",
            "Produto\n",
            "Micro-ondas           60\n",
            "TV Led UHD 4K         60\n",
            "Guarda roupas         60\n",
            "Secadora de roupas    58\n",
            "Cômoda                56\n",
            "Blocos de montar      56\n",
            "Bola de basquete      55\n",
            "Bicicleta             54\n",
            "Copo térmico          54\n",
            "Geladeira             54\n",
            "Name: count, dtype: int64\n",
            "produtos mais vendidos da loja 2\n",
            "Produto\n",
            "Iniciando em programação    65\n",
            "Micro-ondas                 62\n",
            "Bateria                     61\n",
            "Violão                      58\n",
            "Pandeiro                    58\n",
            "Secadora de roupas          57\n",
            "Celular Plus X42            55\n",
            "Blocos de montar            54\n",
            "Guarda roupas               54\n",
            "Jogo de panelas             52\n",
            "Name: count, dtype: int64\n",
            "produtos mais vendidos da loja 3\n",
            "Produto\n",
            "Kit banquetas               57\n",
            "Mesa de jantar              56\n",
            "Cama king                   56\n",
            "Jogo de panelas             55\n",
            "Cômoda                      55\n",
            "Smart TV                    54\n",
            "Fogão                       53\n",
            "Corda de pular              53\n",
            "Modelagem preditiva         53\n",
            "Carrinho controle remoto    52\n",
            "Name: count, dtype: int64\n",
            "produtos mais vendidos da loja 4\n",
            "Produto\n",
            "Cama box                    62\n",
            "Faqueiro                    59\n",
            "Dashboards com Power BI     56\n",
            "Cama king                   56\n",
            "Carrinho controle remoto    55\n",
            "Mesa de jantar              55\n",
            "Cômoda                      55\n",
            "Smart TV                    54\n",
            "Blocos de montar            54\n",
            "Pandeiro                    52\n",
            "Name: count, dtype: int64\n"
          ]
        }
      ]
    },
    {
      "cell_type": "code",
      "source": [
        "#imprimir o produto menos vendos de cada loja\n",
        "print('produtos menos vendidos da loja 1')\n",
        "print(produtos_mais_vendidos_loja1.tail(10))\n",
        "print('produtos menos vendidos da loja 2')\n",
        "print(produtos_mais_vendidos_loja2.tail(10))\n",
        "print('produtos menos vendidos da loja 3')\n",
        "print(produtos_mais_vendidos_loja3.tail(10))\n",
        "print('produtos menos vendidos da loja 4')\n",
        "print(produtos_mais_vendidos_loja4.tail(10))\n"
      ],
      "metadata": {
        "colab": {
          "base_uri": "https://localhost:8080/"
        },
        "id": "XRQ3M3ZoWWXN",
        "outputId": "0645e68d-f7e4-4c08-c502-a4d2eebc6254"
      },
      "execution_count": null,
      "outputs": [
        {
          "output_type": "stream",
          "name": "stdout",
          "text": [
            "produtos menos vendidos da loja 1\n",
            "Produto\n",
            "Boneca bebê                    40\n",
            "Mesa de jantar                 40\n",
            "Dinossauro Rex                 40\n",
            "Corda de pular                 40\n",
            "Mochila                        39\n",
            "Ciência de dados com python    39\n",
            "Pandeiro                       36\n",
            "Panela de pressão              35\n",
            "Headset                        33\n",
            "Celular ABXY                   33\n",
            "Name: count, dtype: int64\n",
            "produtos menos vendidos da loja 2\n",
            "Produto\n",
            "Dinossauro Rex        42\n",
            "Celular ABXY          41\n",
            "Smart TV              40\n",
            "Faqueiro              39\n",
            "Assistente virtual    38\n",
            "Fone de ouvido        37\n",
            "Poltrona              35\n",
            "Mesa de jantar        34\n",
            "Impressora            34\n",
            "Jogo de tabuleiro     32\n",
            "Name: count, dtype: int64\n",
            "produtos menos vendidos da loja 3\n",
            "Produto\n",
            "Faqueiro              39\n",
            "Boneca bebê           39\n",
            "Headset               39\n",
            "Assistente virtual    39\n",
            "Copo térmico          38\n",
            "Guitarra              38\n",
            "Jogo de copos         36\n",
            "Mochila               36\n",
            "Micro-ondas           36\n",
            "Blocos de montar      35\n",
            "Name: count, dtype: int64\n",
            "produtos menos vendidos da loja 4\n",
            "Produto\n",
            "Cadeira de escritório          40\n",
            "Celular ABXY                   39\n",
            "Xadrez de madeira              39\n",
            "Smartwatch                     39\n",
            "Lavadora de roupas             38\n",
            "Geladeira                      38\n",
            "Ciência de dados com python    38\n",
            "Violão                         37\n",
            "Guarda roupas                  34\n",
            "Guitarra                       33\n",
            "Name: count, dtype: int64\n"
          ]
        }
      ]
    },
    {
      "cell_type": "markdown",
      "source": [
        "# 5. Frete Médio por Loja\n"
      ],
      "metadata": {
        "id": "Fl0cGi3bZKqU"
      }
    },
    {
      "cell_type": "code",
      "source": [
        "print('produto e frete da loja 1')\n",
        "print(loja[['Produto', 'Frete']])\n",
        "print('produto e frete da loja 2')\n",
        "print(loja2[['Produto', 'Frete']])\n",
        "print('produto e frete da loja 3')\n",
        "print(loja3[['Produto', 'Frete']])\n",
        "print('produto e frete da loja 4')\n",
        "print(loja4[['Produto', 'Frete']])"
      ],
      "metadata": {
        "id": "0tSdCie9ZQlt",
        "colab": {
          "base_uri": "https://localhost:8080/"
        },
        "outputId": "df9ab7af-647b-4165-a8bb-1fc8a6e4822a"
      },
      "execution_count": null,
      "outputs": [
        {
          "output_type": "stream",
          "name": "stdout",
          "text": [
            "produto e frete da loja 1\n",
            "                    Produto      Frete\n",
            "0        Assistente virtual   9.249790\n",
            "1            Mesa de jantar  11.234305\n",
            "2         Jogo de tabuleiro  21.262681\n",
            "3               Micro-ondas  54.667344\n",
            "4     Cadeira de escritório  26.964689\n",
            "...                     ...        ...\n",
            "2354       Celular Plus X42  88.772042\n",
            "2355             Impressora  20.363958\n",
            "2356      Jogo de tabuleiro   9.611337\n",
            "2357               Cama box  46.665919\n",
            "2358             Smartwatch  11.425995\n",
            "\n",
            "[2359 rows x 2 columns]\n",
            "produto e frete da loja 2\n",
            "                    Produto       Frete\n",
            "0     Cadeira de escritório   20.421138\n",
            "1                  Pandeiro    3.035334\n",
            "2                 Cama king   31.759020\n",
            "3                 Cama king   61.919584\n",
            "4     Cadeira de escritório   25.827176\n",
            "...                     ...         ...\n",
            "2354        Jogo de panelas   10.846135\n",
            "2355     Lavadora de roupas   86.907994\n",
            "2356            Micro-ondas   57.177917\n",
            "2357       Celular Plus X42  155.500107\n",
            "2358              Bicicleta   36.700744\n",
            "\n",
            "[2359 rows x 2 columns]\n",
            "produto e frete da loja 3\n",
            "                      Produto      Frete\n",
            "0          Secadora de roupas  88.823159\n",
            "1                      Cômoda  18.180908\n",
            "2                      Violão  23.197592\n",
            "3               Bola de vôlei   4.463341\n",
            "4               Guarda roupas  34.578319\n",
            "...                       ...        ...\n",
            "2354  Dashboards com Power BI   2.835973\n",
            "2355  Dashboards com Power BI   2.943620\n",
            "2356    Cadeira de escritório  34.159188\n",
            "2357           Mesa de centro   6.324933\n",
            "2358      Modelagem preditiva  12.580214\n",
            "\n",
            "[2359 rows x 2 columns]\n",
            "produto e frete da loja 4\n",
            "                    Produto      Frete\n",
            "0               Lava louças  74.604083\n",
            "1                  Cama box  33.919251\n",
            "2          Bola de basquete   0.000000\n",
            "3       Modelagem preditiva   1.680730\n",
            "4            Fone de ouvido   7.442587\n",
            "...                     ...        ...\n",
            "2353         Mesa de jantar  16.852799\n",
            "2354  Cadeira de escritório  24.812798\n",
            "2355           Copo térmico   3.139675\n",
            "2356        Jogo de panelas  11.062979\n",
            "2357         Corda de pular   1.732696\n",
            "\n",
            "[2358 rows x 2 columns]\n"
          ]
        }
      ]
    },
    {
      "cell_type": "code",
      "source": [
        "print('frete medio da loja 1')\n",
        "print(loja['Frete'].mean())\n",
        "print('frete medio da loja 2')\n",
        "print(loja2['Frete'].mean())\n",
        "print('frete medio da loja 3')\n",
        "print(loja3['Frete'].mean())\n",
        "print('frete medio da loja 4')\n",
        "print(loja4['Frete'].mean())\n",
        "\n"
      ],
      "metadata": {
        "id": "S2JeaCykZNy9",
        "colab": {
          "base_uri": "https://localhost:8080/"
        },
        "outputId": "07ee2a49-ea36-4e94-d3d6-52993cefd067"
      },
      "execution_count": null,
      "outputs": [
        {
          "output_type": "stream",
          "name": "stdout",
          "text": [
            "frete medio da loja 1\n",
            "34.69180491551149\n",
            "frete medio da loja 2\n",
            "33.62194065817927\n",
            "frete medio da loja 3\n",
            "33.07446427411743\n",
            "frete medio da loja 4\n",
            "31.278997081841727\n"
          ]
        }
      ]
    },
    {
      "cell_type": "markdown",
      "source": [
        "## GRAFICO DE MAIS VENDIDOS"
      ],
      "metadata": {
        "id": "8YaQUaGR_VEd"
      }
    },
    {
      "cell_type": "markdown",
      "source": [
        "## GRAFICO POR FATURAMENTOS"
      ],
      "metadata": {
        "id": "B7oPIQ913nZM"
      }
    },
    {
      "cell_type": "code",
      "source": [
        "lojas =  [\"Loja 1\", \"Loja 2\", \"Loja 3\", \"Loja 4\"]\n",
        "faturamentos = [faturamento_loja_1, faturamento_loja_2, faturamento_loja_3, faturamento_loja_4]"
      ],
      "metadata": {
        "id": "2B9PuIeN6nyk"
      },
      "execution_count": null,
      "outputs": []
    },
    {
      "cell_type": "code",
      "source": [
        "plt.bar(x = lojas, height = faturamentos)"
      ],
      "metadata": {
        "id": "gr2XtZk43lgr",
        "colab": {
          "base_uri": "https://localhost:8080/",
          "height": 463
        },
        "outputId": "26b2bb96-daf2-40b4-d401-5a2ebda07958"
      },
      "execution_count": null,
      "outputs": [
        {
          "output_type": "execute_result",
          "data": {
            "text/plain": [
              "<BarContainer object of 4 artists>"
            ]
          },
          "metadata": {},
          "execution_count": 23
        },
        {
          "output_type": "display_data",
          "data": {
            "text/plain": [
              "<Figure size 640x480 with 1 Axes>"
            ],
            "image/png": "[encoded data removed]"
          },
          "metadata": {}
        }
      ]
    },
    {
      "cell_type": "markdown",
      "source": [],
      "metadata": {
        "id": "IPR2LThALAH-"
      }
    },
    {
      "cell_type": "markdown",
      "source": [
        "## GRAFICO POR CATEGORIAS"
      ],
      "metadata": {
        "id": "RTawaw5B8nCc"
      }
    },
    {
      "cell_type": "code",
      "source": [
        "lojas =  [\"Loja 1\", \"Loja 2\", \"Loja 3\", \"Loja 4\"]\n",
        "categorias = [vendas_categoria_loja1, vendas_categoria_loja2, vendas_categoria_loja3, vendas_categoria_loja4]"
      ],
      "metadata": {
        "id": "DEXTsZiLKGwC"
      },
      "execution_count": null,
      "outputs": []
    },
    {
      "cell_type": "code",
      "source": [
        "plt.plot(lojas, categorias)\n",
        "plt.title(\"Vendas por Categoria\")\n",
        "plt.xlabel(\"Categoria\")\n",
        "plt.ylabel(\"Vendas\")\n",
        "plt.show()"
      ],
      "metadata": {
        "id": "17Nm6A9188-M",
        "colab": {
          "base_uri": "https://localhost:8080/",
          "height": 472
        },
        "outputId": "ec40e044-e14f-4329-c73b-7656e22f45ac"
      },
      "execution_count": null,
      "outputs": [
        {
          "output_type": "display_data",
          "data": {
            "text/plain": [
              "<Figure size 640x480 with 1 Axes>"
            ],
            "image/png": "[encoded data removed]"
          },
          "metadata": {}
        }
      ]
    },
    {
      "cell_type": "markdown",
      "source": [
        "## GRAFICO MAIS E MENOS VENDIDOS"
      ],
      "metadata": {
        "id": "f0x9G8fDNaq9"
      }
    },
    {
      "cell_type": "code",
      "source": [
        "import matplotlib.pyplot as plt\n",
        "\n",
        "lojas =  [\"Loja 1\", \"Loja 2\", \"Loja 3\", \"Loja 4\"]\n",
        "produtos = [produtos_mais_vendidos_loja1, produtos_mais_vendidos_loja2, produtos_mais_vendidos_loja3, produtos_mais_vendidos_loja4]"
      ],
      "metadata": {
        "id": "3-knf8GXQ8i6"
      },
      "execution_count": null,
      "outputs": []
    },
    {
      "cell_type": "code",
      "source": [
        "produtos_mais_vendidos_loja1 = loja['Produto'].value_counts()\n"
      ],
      "metadata": {
        "id": "N6N239TnrwWa"
      },
      "execution_count": null,
      "outputs": []
    },
    {
      "cell_type": "code",
      "source": [
        "import matplotlib.pyplot as plt\n",
        "\n",
        "# Total de vendas (soma das contagens) por loja\n",
        "valores = [\n",
        "    produtos_mais_vendidos_loja1.sum(),\n",
        "    produtos_mais_vendidos_loja2.sum(),\n",
        "    produtos_mais_vendidos_loja3.sum(),\n",
        "    produtos_mais_vendidos_loja4.sum()\n",
        "]\n",
        "\n",
        "lojas = [\"Loja 1\", \"Loja 2\", \"Loja 3\", \"Loja 4\"]\n",
        "\n",
        "# Criando o gráfico de pizza\n",
        "plt.pie(valores, labels=lojas, autopct='%1.1f%%')\n",
        "plt.title('Total de produtos vendidos por loja')\n",
        "plt.show()\n",
        "\n"
      ],
      "metadata": {
        "id": "3eZXHlDlRhvz",
        "colab": {
          "base_uri": "https://localhost:8080/",
          "height": 428
        },
        "outputId": "25ea57bb-76bd-47a2-8d32-662b7beba092"
      },
      "execution_count": null,
      "outputs": [
        {
          "output_type": "display_data",
          "data": {
            "text/plain": [
              "<Figure size 640x480 with 1 Axes>"
            ],
            "image/png": "[encoded data removed]"
          },
          "metadata": {}
        }
      ]
    },
    {
      "cell_type": "code",
      "source": [
        "# distribuir a receita de cada loja\n",
        "import matplotlib.pyplot as plt\n",
        "\n",
        "lojas =  [\"Loja 1\", \"Loja 2\", \"Loja 3\", \"Loja 4\"]\n",
        "faturamentos = [faturamento_loja_1, faturamento_loja_2, faturamento_loja_3, faturamento_loja_4]\n",
        "\n",
        "# Criando o gráfico de pizza\n",
        "plt.pie(faturamentos, labels=lojas, autopct='%1.1f%%')\n",
        "plt.title('Faturamento por loja')\n",
        "plt.show()\n"
      ],
      "metadata": {
        "colab": {
          "base_uri": "https://localhost:8080/",
          "height": 428
        },
        "id": "tNU5pc4smzGu",
        "outputId": "0f71fa6e-3d08-4dac-fc7a-66f50c2020f5"
      },
      "execution_count": null,
      "outputs": [
        {
          "output_type": "display_data",
          "data": {
            "text/plain": [
              "<Figure size 640x480 with 1 Axes>"
            ],
            "image/png": "[encoded data removed]"
          },
          "metadata": {}
        }
      ]
    },
    {
      "cell_type": "markdown",
      "source": [
        "# Relatório Final - Projeto de Análise de Dados Lojas do Sr João\n",
        "\n",
        "**Desenvolvido por: Anderson Alcantara**\n",
        "\n",
        "**Programa ONE | Especialização em Data Science - Alura + Oracle**"
      ],
      "metadata": {
        "id": "sl5ySZJx-Jmf"
      }
    },
    {
      "cell_type": "markdown",
      "source": [
        "#Objetivo:#\n",
        "O objetivo deste projeto foi analisar o desempenho das quatro lojas do Sr João, usando dados de vendas, avaliação dos cliente, faturamento e custos de frete. Com base nestas análises, foi desenvolvida uma recomendação de qual loja deve ser vendida."
      ],
      "metadata": {
        "id": "8BrkXUvX-PZn"
      }
    },
    {
      "cell_type": "markdown",
      "source": [
        "#Etapas da Análise#\n",
        "\n",
        "#Faturamento#\n",
        "- Calculei o tatal de vendas por loja.\n",
        "- Resultado: Loja 4 tem o menor faturamento entre todas a lojas.\n",
        "\n",
        "#Vendas por categoria#\n",
        "- Agrupei o produtos vendidos por categoria para cada loja.\n",
        "- Resultado: Loja 1 teve maior diversidade e volume e loja 4 teve menos variedade.\n",
        "\n",
        "#Avaliação dos clientes#\n",
        "- Calculei a média da avaliações por loja.\n",
        "- Resultado: Loja 4 teve a pior nota média.\n",
        "\n",
        "#Produtos mais vendidos#\n",
        "- Usei vlue_counts() para saber quais produtos foram mais vendidos por loja.\n",
        "- Resultado: lojas 1 e 2 se desctacaram pois têm muitos produtos com vendas altas, mas a loja 4 tem vendas muito concentradas.\n",
        "\n",
        "#Frete médio#\n",
        "- Claculei a média do valor do frete por loja.\n",
        "- Resultado: Loja 4 tem o frete mais caro."
      ],
      "metadata": {
        "id": "SSDv4WzQKiP8"
      }
    },
    {
      "cell_type": "markdown",
      "source": [
        "##Conclusão##\n",
        "Com base nos dados apresentados, minha conclusão é que a Loja 4 deve ser vendida.\n",
        "\n",
        "**Motivos:**\n",
        "- Menos faturamento em relação as demais lojas.\n",
        "- Avaliação ruim por parte dos clientes.\n",
        "- Prutudos não menos populares.\n",
        "- Frete caro, o que pode afastar compradores digitais.\n"
      ],
      "metadata": {
        "id": "V-STHuC0-MIv"
      }
    },
    {
      "cell_type": "markdown",
      "source": [
        "##Aprendizado##\n",
        "**Nesse projeto, pude praticar:**\n",
        "- Leitura e tratamento de dados com **pandas**\n",
        "\n",
        "Obs:\n",
        "confeço que tive dificuldades mais foi muito bom praticar.\n",
        "- Filtro e somas\n",
        "- Criação de gráficos com **matplotlib**\n",
        "\n",
        "Obs: Este foi meu maior desafio, principalmente por ter que fazer gráficos diferentes.\n",
        "- Análise de dados reais para tomada de decisão."
      ],
      "metadata": {
        "id": "vuiRUDsh_oBu"
      }
    }
  ]
}